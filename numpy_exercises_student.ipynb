{
  "cells": [
    {
      "cell_type": "markdown",
      "metadata": {
        "id": "view-in-github",
        "colab_type": "text"
      },
      "source": [
        "<a href=\"https://colab.research.google.com/github/brunokobi/Processamento_Imagens/blob/main/numpy_exercises_student.ipynb\" target=\"_parent\"><img src=\"https://colab.research.google.com/assets/colab-badge.svg\" alt=\"Open In Colab\"/></a>"
      ]
    },
    {
      "cell_type": "markdown",
      "metadata": {
        "id": "9rC0zDWNX5Lc"
      },
      "source": [
        "### Exercícios NumPy"
      ]
    },
    {
      "cell_type": "code",
      "execution_count": null,
      "metadata": {
        "id": "0OL4qEgzX5Lf"
      },
      "outputs": [],
      "source": [
        "import numpy as np"
      ]
    },
    {
      "cell_type": "markdown",
      "metadata": {
        "id": "AvuLvhc5X5Lh"
      },
      "source": [
        "**1.** Crie um array com 6 elementos em que os elementos possuem o padrão a seguir:\n",
        "\n",
        "```\n",
        "[0 2 4 6 8 10]\n",
        "```"
      ]
    },
    {
      "cell_type": "code",
      "execution_count": null,
      "metadata": {
        "colab": {
          "base_uri": "https://localhost:8080/"
        },
        "id": "ip6qVh96X5Lh",
        "outputId": "812ab902-d771-455f-f7b8-76b13400bdb0"
      },
      "outputs": [
        {
          "output_type": "stream",
          "name": "stdout",
          "text": [
            "[ 0  2  4  6  8 10]\n"
          ]
        }
      ],
      "source": [
        "array = np.arange(0, 12, 2)\n",
        "print(array)"
      ]
    },
    {
      "cell_type": "markdown",
      "metadata": {
        "id": "AgAYq-MAX5Li"
      },
      "source": [
        "**2.** Crie um array $3 \\times 4$ com o seguinte padrão:\n",
        "\n",
        "```\n",
        "[[  0   1   4   9]\n",
        " [ 16  25  36  49]\n",
        " [ 64  81 100 121]]\n",
        " ```"
      ]
    },
    {
      "cell_type": "code",
      "execution_count": null,
      "metadata": {
        "colab": {
          "base_uri": "https://localhost:8080/"
        },
        "id": "Vu2hhr_EX5Li",
        "outputId": "16670462-eaa6-44c7-95b2-c1728e14e3bc"
      },
      "outputs": [
        {
          "output_type": "stream",
          "name": "stdout",
          "text": [
            "[[  0   1   4   9]\n",
            " [ 16  25  36  49]\n",
            " [ 64  81 100 121]]\n"
          ]
        }
      ],
      "source": [
        "array = np.arange(12).reshape(3, 4) ** 2\n",
        "print(array)"
      ]
    },
    {
      "cell_type": "markdown",
      "metadata": {
        "id": "eyC5GTlnX5Li"
      },
      "source": [
        "**3.** Crie um array $7\\times7$ no qual todos os elementos têm valor 0, exceto os da linha 3 e da coluna 3, que têm valor 1, como a seguir:\n",
        "\n",
        "```\n",
        "[[0 0 0 1 0 0 0]\n",
        " [0 0 0 1 0 0 0]\n",
        " [0 0 0 1 0 0 0]\n",
        " [1 1 1 1 1 1 1]\n",
        " [0 0 0 1 0 0 0]\n",
        " [0 0 0 1 0 0 0]\n",
        " [0 0 0 1 0 0 0]]\n",
        "```"
      ]
    },
    {
      "cell_type": "code",
      "execution_count": null,
      "metadata": {
        "colab": {
          "base_uri": "https://localhost:8080/"
        },
        "id": "9jKwTJO0X5Lj",
        "outputId": "e34c13a4-ea8d-4606-d979-ebb85f9886c3"
      },
      "outputs": [
        {
          "output_type": "stream",
          "name": "stdout",
          "text": [
            "[[0 0 0 1 0 0 0]\n",
            " [0 0 0 1 0 0 0]\n",
            " [0 0 0 1 0 0 0]\n",
            " [1 1 1 1 1 1 1]\n",
            " [0 0 0 1 0 0 0]\n",
            " [0 0 0 1 0 0 0]\n",
            " [0 0 0 1 0 0 0]]\n"
          ]
        }
      ],
      "source": [
        "array = np.zeros((7, 7), dtype=int)\n",
        "array[3, :] = 1\n",
        "array[:, 3] = 1\n",
        "print(array)"
      ]
    },
    {
      "cell_type": "markdown",
      "metadata": {
        "id": "Ium1GDE4X5Lj"
      },
      "source": [
        "**4.** Crie um array $5 \\times 5$ com o seguinte padrão:\n",
        "\n",
        "```\n",
        "[[10  0  0  0  0]\n",
        " [ 0 10  0  0  0]\n",
        " [ 0  0 10  0  0]\n",
        " [ 0  0  0 10  0]\n",
        " [ 0  0  0  0 10]]\n",
        "```"
      ]
    },
    {
      "cell_type": "code",
      "execution_count": null,
      "metadata": {
        "colab": {
          "base_uri": "https://localhost:8080/"
        },
        "id": "q9xSmLWHX5Lj",
        "outputId": "3e1ef70b-5005-4511-936a-574839f63ed5"
      },
      "outputs": [
        {
          "output_type": "stream",
          "name": "stdout",
          "text": [
            "[[10  0  0  0  0]\n",
            " [ 0 10  0  0  0]\n",
            " [ 0  0 10  0  0]\n",
            " [ 0  0  0 10  0]\n",
            " [ 0  0  0  0 10]]\n"
          ]
        }
      ],
      "source": [
        "array = np.eye(5, dtype=int) * 10\n",
        "print(array)"
      ]
    },
    {
      "cell_type": "markdown",
      "metadata": {
        "id": "eC-Zu-0IX5Lk"
      },
      "source": [
        "**5.** Crie um array $5 \\times 5$ com o seguinte padrão:\n",
        "\n",
        "```\n",
        "[[ 1  0  0  0  0]\n",
        " [ 0  4  0  0  0]\n",
        " [ 0  0  9  0  0]\n",
        " [ 0  0  0 16  0]\n",
        " [ 0  0  0  0 25]]\n",
        "```\n",
        "\n",
        "Utilize as funções `np.diag` e `np.arange`."
      ]
    },
    {
      "cell_type": "code",
      "execution_count": null,
      "metadata": {
        "colab": {
          "base_uri": "https://localhost:8080/"
        },
        "id": "RQ1HkAWqX5Lk",
        "outputId": "2b5d4049-4dfd-466b-bd1b-6d5e35cb7f3b"
      },
      "outputs": [
        {
          "output_type": "stream",
          "name": "stdout",
          "text": [
            "[[ 1  0  0  0  0]\n",
            " [ 0  4  0  0  0]\n",
            " [ 0  0  9  0  0]\n",
            " [ 0  0  0 16  0]\n",
            " [ 0  0  0  0 25]]\n"
          ]
        }
      ],
      "source": [
        "array = np.diag(np.arange(1, 6) ** 2)\n",
        "print(array)"
      ]
    },
    {
      "cell_type": "markdown",
      "metadata": {
        "id": "Z-VOXzwCX5Lk"
      },
      "source": [
        "**6.** Crie um array $3\\times2\\times4$ onde o elemento de índice $(i, j, k)$ tem valor $i^2$ para qualquer $j, k$, como abaixo:\n",
        "\n",
        "```\n",
        "[[[0 0 0 0]\n",
        "  [0 0 0 0]]\n",
        "\n",
        " [[1 1 1 1]\n",
        "  [1 1 1 1]]\n",
        "\n",
        " [[4 4 4 4]\n",
        "  [4 4 4 4]]]\n",
        "```\n",
        "\n",
        "Dica: utilize a função `np.indices`."
      ]
    },
    {
      "cell_type": "code",
      "execution_count": null,
      "metadata": {
        "colab": {
          "base_uri": "https://localhost:8080/"
        },
        "id": "3JHTZCE6X5Lk",
        "outputId": "59f7834b-cac3-451c-fe37-041cce9d3d5e"
      },
      "outputs": [
        {
          "output_type": "stream",
          "name": "stdout",
          "text": [
            "[[[0 0 0 0]\n",
            "  [0 0 0 0]]\n",
            "\n",
            " [[1 1 1 1]\n",
            "  [1 1 1 1]]\n",
            "\n",
            " [[4 4 4 4]\n",
            "  [4 4 4 4]]]\n"
          ]
        }
      ],
      "source": [
        "indices = np.indices((3, 2, 4))\n",
        "array = indices[0] ** 2\n",
        "print(array)"
      ]
    },
    {
      "cell_type": "markdown",
      "metadata": {
        "id": "oH9I4JUeX5Lk"
      },
      "source": [
        "**7.** Crie um array $5\\times5$ onde o elemento de índice $(i,j)$ tem valor $i^2 + j^2$.\n",
        "\n",
        "Dica: utilize a função `np.indices`."
      ]
    },
    {
      "cell_type": "code",
      "execution_count": 7,
      "metadata": {
        "colab": {
          "base_uri": "https://localhost:8080/"
        },
        "id": "pytaTc2dX5Ll",
        "outputId": "e2023b73-1f54-4996-dad5-b3149106c7bc"
      },
      "outputs": [
        {
          "output_type": "stream",
          "name": "stdout",
          "text": [
            "[[ 0  1  4  9 16]\n",
            " [ 1  2  5 10 17]\n",
            " [ 4  5  8 13 20]\n",
            " [ 9 10 13 18 25]\n",
            " [16 17 20 25 32]]\n"
          ]
        }
      ],
      "source": [
        "x_indices, y_indices = np.indices((5, 5))\n",
        "array = x_indices ** 2 + y_indices ** 2\n",
        "print(array)"
      ]
    },
    {
      "cell_type": "markdown",
      "metadata": {
        "id": "FiE7TSx0X5Ll"
      },
      "source": [
        "**8.** Gere uma matriz $10\\times10$ de números aleatórios com distribuição normal de média 0 e desvio padrão 1. Calcule o *máximo* valor em cada linha e o *mínimo* valor em cada coluna.\n",
        "\n",
        "Dica: utilize a função `np.randn`."
      ]
    },
    {
      "cell_type": "code",
      "execution_count": 16,
      "metadata": {
        "colab": {
          "base_uri": "https://localhost:8080/"
        },
        "id": "7JUmyO5YX5Ll",
        "outputId": "6fd3f666-404f-465a-f7af-03690143bf03"
      },
      "outputs": [
        {
          "output_type": "stream",
          "name": "stdout",
          "text": [
            "Máximo de cada linha:\n",
            "[1.00636071 1.19266596 2.09085682 2.61837063 0.48166156 1.53753754\n",
            " 1.09466159 1.95802572 1.35272125 2.10906139]\n",
            "\n",
            "Mínimo de cada coluna:\n",
            "[-1.12774135 -0.56744992 -2.8685249  -1.42580302 -0.47732272 -1.19778021\n",
            " -1.13647654 -0.72130196 -1.0840308  -0.98684444]\n"
          ]
        }
      ],
      "source": [
        "# Gerar a matriz 10x10 de números aleatórios com distribuição normal de média 0 e desvio padrão 1\n",
        "matriz = np.random.randn(10, 10)\n",
        "\n",
        "# Calcular o máximo de cada linha\n",
        "maximos_linha = np.max(matriz, axis=1)\n",
        "print(\"Máximo de cada linha:\")\n",
        "print(maximos_linha)\n",
        "\n",
        "# Calcular o mínimo de cada coluna\n",
        "minimos_coluna = np.min(matriz, axis=0)\n",
        "print(\"\\nMínimo de cada coluna:\")\n",
        "print(minimos_coluna)"
      ]
    },
    {
      "cell_type": "markdown",
      "metadata": {
        "id": "_qe2IawrX5Ll"
      },
      "source": [
        "**9.** Gere uma matriz $X \\in \\mathbb{R}^{5\\times5}$ de números aleatórios com distribuição normal de média 1 e desvio padrão 3, isto é, $X \\sim \\text{N}(1, 3)$. Depois gere uma matriz $Y$ de mesmo formato cujo elemento $(i,j)$ terá valor $1$ se o elemento $(i,j)$ da matriz aleatória for menor que -5 ou maior do que 7, e zero caso contrário.\n",
        "Conte o número de valores diferentes de zero nessa nova matriz.\n",
        "\n",
        "Dica: se $X \\sim \\text{N}(0, 1)$, então $(\\sigma \\cdot X + \\mu) \\sim \\text{N}(\\mu, \\sigma)$."
      ]
    },
    {
      "cell_type": "code",
      "execution_count": 20,
      "metadata": {
        "colab": {
          "base_uri": "https://localhost:8080/"
        },
        "id": "Om17ibtCX5Ll",
        "outputId": "38d7882b-2088-41f5-de7f-0b5f77950c48"
      },
      "outputs": [
        {
          "output_type": "stream",
          "name": "stdout",
          "text": [
            "[[ 3.45466548  0.75722281 -3.91206397  6.61635097  0.91644364]\n",
            " [-0.51587318 -2.38232403  0.83856016 -5.96770308 -1.25929318]\n",
            " [ 4.05803031  1.02414318  3.72286314  3.666961    1.71981919]\n",
            " [-3.61441395  4.55127069  1.00306512 -3.99573312  4.37950546]\n",
            " [-0.08095081  3.01635829  2.63020629 -0.99662289  5.52336171]]\n",
            "[[0 0 0 0 0]\n",
            " [0 0 0 1 0]\n",
            " [0 0 0 0 0]\n",
            " [0 0 0 0 0]\n",
            " [0 0 0 0 0]]\n"
          ]
        }
      ],
      "source": [
        "# Gerando uma matriz 5x5 de números aleatórios com distribuição normal de média 1 e desvio padrão 3\n",
        "X = np.random.normal(loc=1, scale=3, size=(5, 5))\n",
        "\n",
        "# Criando uma matriz Y com base na condição especificada\n",
        "Y = np.where((X < -5) | (X > 7), 1, 0)\n",
        "\n",
        "print(X)\n",
        "print(Y)"
      ]
    },
    {
      "cell_type": "markdown",
      "metadata": {
        "id": "iPuE6lBCX5Ll"
      },
      "source": [
        "**10.** Use as regras de *broadcast* em seu benefício para gerar uma matriz $5\\times5$ cujos elementos $(i,j)$ têm valor $i$. Faça o mesmo para gerar uma outra matriz de mesmo tamanho cujos elementos $(i,j)$ tenham valor $j$. Por fim, combine isso para gerar uma matriz também $5\\times5$ cujos elementos $(i,j)$ tenham valor $2 i - j$.\n",
        "\n",
        "Atenção: não utilizar `np.indices`.\n",
        "Dica: utilizar soma com matriz de zeros com dimensões $10\\times10$"
      ]
    },
    {
      "cell_type": "code",
      "execution_count": 23,
      "metadata": {
        "id": "9-uorh9qX5Ll",
        "outputId": "13eea585-714c-457c-e8ab-2c3ac239f2f4",
        "colab": {
          "base_uri": "https://localhost:8080/"
        }
      },
      "outputs": [
        {
          "output_type": "stream",
          "name": "stdout",
          "text": [
            "[[0. 0. 0. 0. 0.]\n",
            " [1. 1. 1. 1. 1.]\n",
            " [2. 2. 2. 2. 2.]\n",
            " [3. 3. 3. 3. 3.]\n",
            " [4. 4. 4. 4. 4.]]\n",
            "[[0. 1. 2. 3. 4.]\n",
            " [0. 1. 2. 3. 4.]\n",
            " [0. 1. 2. 3. 4.]\n",
            " [0. 1. 2. 3. 4.]\n",
            " [0. 1. 2. 3. 4.]]\n",
            "[[ 0. -1. -2. -3. -4.]\n",
            " [ 2.  1.  0. -1. -2.]\n",
            " [ 4.  3.  2.  1.  0.]\n",
            " [ 6.  5.  4.  3.  2.]\n",
            " [ 8.  7.  6.  5.  4.]]\n"
          ]
        }
      ],
      "source": [
        "# Gerar matriz com elementos i\n",
        "i = np.arange(5)\n",
        "matriz_i = np.zeros((5, 5)) + i.reshape((5, 1))\n",
        "\n",
        "# Gerar matriz com elementos j\n",
        "j = np.arange(5)\n",
        "matriz_j = np.zeros((5, 5)) + j\n",
        "\n",
        "# Gerar matriz com elementos 2i - j\n",
        "matriz_final = 2 * matriz_i - matriz_j\n",
        "\n",
        "\n",
        "print(matriz_i)\n",
        "print(matriz_j)\n",
        "print(matriz_final)"
      ]
    },
    {
      "cell_type": "markdown",
      "metadata": {
        "id": "7YKfoFEJX5Lm"
      },
      "source": [
        "**11.** Considere a matriz\n",
        "\n",
        "$\n",
        "X = \\begin{bmatrix}\n",
        "  9 & 3 & 8 \\\\\n",
        "  7 & 4 & 5 \\\\\n",
        "  2 & 3 & 1 \\\\\n",
        "  2 & 10 & 9 \\\\\n",
        "  8 & 9 & 2 \\\\\n",
        "\\end{bmatrix}.\n",
        "$\n",
        "\n",
        "Calcule $X_{shifted} = X - \\mu$, onde $\\mu$ é a média das linhas de $X$. Explore a funcionalidade de broadcasting e não utilize loops.\n"
      ]
    },
    {
      "cell_type": "code",
      "execution_count": 34,
      "metadata": {
        "colab": {
          "base_uri": "https://localhost:8080/"
        },
        "id": "IdXq9EfQX5Lm",
        "outputId": "01e14eaa-e5c9-44c6-8ed0-9946a7388663"
      },
      "outputs": [
        {
          "output_type": "stream",
          "name": "stdout",
          "text": [
            "Your function is not correct.\n"
          ]
        }
      ],
      "source": [
        "X = np.array([[9, 3, 8], [7, 4, 5], [2, 3, 1], [2, 10, 9], [8, 9, 2]])\n",
        "X_shifted = np.zeros(X.shape)  # Mantenha esta linha\n",
        "\n",
        "################## changer start\n",
        "mu = np.mean(X, axis=1, keepdims=True)\n",
        "X_shifted = X - mu\n",
        "################## changer end\n",
        "\n",
        "ans = np.array([[3.4, -2.8, 3.0], [1.4, -1.8, 0.0], [-3.6, -2.8, -4.0], [-3.6, 4.2, 4.0], [2.4, 3.2, -3.0]])\n",
        "are_equal = np.allclose(X_shifted, ans, atol=1e-5)\n",
        "if are_equal:\n",
        "    print(\"Your function is correct.\")\n",
        "else:\n",
        "    print(\"Your function is not correct.\")"
      ]
    },
    {
      "cell_type": "markdown",
      "metadata": {
        "id": "JwNpJgzWX5Lm"
      },
      "source": [
        "**12.** A distância euclidiana entre dois vetores $u$ e $v$ de tamanho $n$ é dada por $\\left\\|u - v\\right\\|_2 = \\sqrt{\\sum_{i=1}^{n}(u_i - v_i)^2}.$\n",
        "\n",
        "Dado os vetores (1-D arrays) a seguir, complete a função `euclidean_distance` para cálculo da distância. Não utilize loops, nem a função `np.linalg.norm`."
      ]
    },
    {
      "cell_type": "code",
      "execution_count": 42,
      "metadata": {
        "id": "bjI2hZfLX5Lm",
        "outputId": "ee6c5eed-f7fd-4a17-907b-98f72b7ab3e6",
        "colab": {
          "base_uri": "https://localhost:8080/"
        }
      },
      "outputs": [
        {
          "output_type": "stream",
          "name": "stdout",
          "text": [
            "Your function is correct.\n"
          ]
        }
      ],
      "source": [
        "def euclidean_distance(u, v):\n",
        "    distances = 0\n",
        "    ##################\n",
        "    # Calcula a diferença entre os vetores elemento por elemento\n",
        "    diff = u - v\n",
        "    # Eleva ao quadrado os elementos da diferença\n",
        "    squared_diff = diff ** 2\n",
        "    # Soma os quadrados dos elementos e tira a raiz quadrada\n",
        "    distances = np.sqrt(np.sum(squared_diff))\n",
        "    ##################\n",
        "    return distances\n",
        "\n",
        "array1 = np.array([1, 2, 3])\n",
        "array2 = np.array([4, 5, 6])\n",
        "\n",
        "distances = euclidean_distance(array1, array2)\n",
        "are_equal = np.allclose(distances, np.linalg.norm(array1 - array2), atol=1e-5)\n",
        "if are_equal:\n",
        "    print(\"Your function is correct.\")\n",
        "else:\n",
        "    print(\"Your function is not correct.\")"
      ]
    },
    {
      "cell_type": "markdown",
      "metadata": {
        "id": "3b1GqIHWX5Lm"
      },
      "source": [
        "**13.** Considere duas matrizes $X$ e $Y$, onde cada linha representa um vetor. Você foi solicitado a calcular a distância euclidiana entre as linhas de $X$ e as linhas correspondentes de $Y$. Escreva uma função que recebe as matrizes $X$ e $Y$ como entrada e retorna uma matriz $D$ onde cada elemento $(i,j)$ representa a distância euclidiana entre a linha $i$ de $X$ ($X_i$) e a linha $j$ de $Y$ ($Y_j$). O cálculo deve ser feito por meio de dois loops, conforme a equação\n",
        "\n",
        "$D_{ij} = \\left \\|X_i - Y_j \\right \\|_2$"
      ]
    },
    {
      "cell_type": "code",
      "execution_count": 49,
      "metadata": {
        "id": "8Au2k2pXX5Lm",
        "outputId": "b66b55f7-f3a1-48d9-d1cb-695fed341b3e",
        "colab": {
          "base_uri": "https://localhost:8080/"
        }
      },
      "outputs": [
        {
          "output_type": "stream",
          "name": "stdout",
          "text": [
            "Your function is correct.\n"
          ]
        }
      ],
      "source": [
        "from scipy.spatial.distance import cdist\n",
        "\n",
        "\n",
        "def calculate_distances_two_loops(X, Y):\n",
        "    distances = np.zeros((X.shape[0], Y.shape[0]))\n",
        "    ##################\n",
        "    for i in range(X.shape[0]):\n",
        "        for j in range(Y.shape[0]):\n",
        "            # Calcula a diferença entre os vetores linha i de X e j de Y\n",
        "            diff = X[i] - Y[j]\n",
        "            # Eleva ao quadrado os elementos da diferença, soma e tira a raiz quadrada\n",
        "            distances[i, j] = np.sqrt(np.sum(diff ** 2))\n",
        "    ##################\n",
        "    return distances\n",
        "\n",
        "\n",
        "X = np.array([[1, 2, 3], [4, 5, 6], [7, 8, 9], [10, 11, 12], [13, 14, 15]])\n",
        "Y = np.array([[16, 17, 18], [19, 20, 21]])\n",
        "\n",
        "distances = calculate_distances_two_loops(X, Y)\n",
        "are_equal = np.allclose(distances, cdist(X, Y), atol=1e-5)\n",
        "if are_equal:\n",
        "    print(\"Your function is correct.\")\n",
        "else:\n",
        "    print(\"Your function is not correct.\")"
      ]
    },
    {
      "cell_type": "markdown",
      "metadata": {
        "id": "MlKVdHBIX5Lm"
      },
      "source": [
        "**14.** O mesmo da questão anterior, mas agora utilizando um loop e broadcasting.\n",
        "\n",
        "Dica: verifique se o resultado de `X[i] - Y` pode lhe ser útil na solução do exercício."
      ]
    },
    {
      "cell_type": "code",
      "execution_count": null,
      "metadata": {
        "id": "bURoRr-mX5Lm",
        "outputId": "d6d004d6-a8f7-4bde-f977-684c22115f9c"
      },
      "outputs": [
        {
          "name": "stdout",
          "output_type": "stream",
          "text": [
            "[[ -9  -9  -9]\n",
            " [-12 -12 -12]]\n"
          ]
        }
      ],
      "source": [
        "# Create two 1D numpy array\n",
        "X = np.array([[1, 2, 3], [4, 5, 6], [7, 8, 9], [10, 11, 12], [13, 14, 15]])\n",
        "Y = np.array([[16, 17, 18], [19, 20, 21]])\n",
        "\n",
        "i = 2\n",
        "print(X[i] - Y)"
      ]
    },
    {
      "cell_type": "code",
      "execution_count": null,
      "metadata": {
        "id": "dbpEK0NgX5Ln",
        "outputId": "a43c52bd-6a63-48d4-f9ec-3a0386ef75f8"
      },
      "outputs": [
        {
          "name": "stdout",
          "output_type": "stream",
          "text": [
            "Your function is not correct.\n"
          ]
        }
      ],
      "source": [
        "def calculate_distances_one_loop(X, Y):\n",
        "    distances = np.zeros((X.shape[0], Y.shape[0]))\n",
        "    ##################\n",
        "    # YOUR CODE HERE.#\n",
        "    ##################\n",
        "    return distances\n",
        "\n",
        "\n",
        "distances = calculate_distances_one_loop(X, Y)\n",
        "are_equal = np.allclose(distances, cdist(X, Y), atol=1e-5)\n",
        "if are_equal:\n",
        "    print(\"Your function is correct.\")\n",
        "else:\n",
        "    print(\"Your function is not correct.\")"
      ]
    },
    {
      "cell_type": "markdown",
      "metadata": {
        "id": "5_OynT9PX5Ln"
      },
      "source": [
        "**15.** O mesmo da questão anterior, mas agora - você que é um mago do broadcasting - não pode utilizar loops.\n",
        "\n",
        "Dica: verifique se o resultado de `X[:, np.newaxis, :] - Y` pode lhe ser útil na solução do exercício."
      ]
    },
    {
      "cell_type": "code",
      "execution_count": null,
      "metadata": {
        "id": "R6xQ_-srX5Ln",
        "outputId": "6f80994c-9380-47cf-ded2-5ecb0f5ca503"
      },
      "outputs": [
        {
          "name": "stdout",
          "output_type": "stream",
          "text": [
            "[[[-15 -15 -15]\n",
            "  [-18 -18 -18]]\n",
            "\n",
            " [[-12 -12 -12]\n",
            "  [-15 -15 -15]]\n",
            "\n",
            " [[ -9  -9  -9]\n",
            "  [-12 -12 -12]]\n",
            "\n",
            " [[ -6  -6  -6]\n",
            "  [ -9  -9  -9]]\n",
            "\n",
            " [[ -3  -3  -3]\n",
            "  [ -6  -6  -6]]]\n"
          ]
        }
      ],
      "source": [
        "# Create two 1D numpy array\n",
        "X = np.array([[1, 2, 3], [4, 5, 6], [7, 8, 9], [10, 11, 12], [13, 14, 15]])\n",
        "Y = np.array([[16, 17, 18], [19, 20, 21]])\n",
        "\n",
        "print(X[:, np.newaxis, :] - Y)"
      ]
    },
    {
      "cell_type": "code",
      "execution_count": null,
      "metadata": {
        "id": "3-y4vKRRX5Ln",
        "outputId": "868583fe-bbfa-473e-9986-fa7b7ebf78d3"
      },
      "outputs": [
        {
          "name": "stdout",
          "output_type": "stream",
          "text": [
            "Your function is not correct.\n"
          ]
        }
      ],
      "source": [
        "def calculate_distances_vectorized(X, Y):\n",
        "    distances = np.zeros((X.shape[0], Y.shape[0]))\n",
        "    ##################\n",
        "    # YOUR CODE HERE.#\n",
        "    ##################\n",
        "    return distances\n",
        "\n",
        "\n",
        "distances = calculate_distances_one_loop(X, Y)\n",
        "are_equal = np.allclose(distances, cdist(X, Y), atol=1e-5)\n",
        "if are_equal:\n",
        "    print(\"Your function is correct.\")\n",
        "else:\n",
        "    print(\"Your function is not correct.\")"
      ]
    }
  ],
  "metadata": {
    "kernelspec": {
      "display_name": "Python 3",
      "language": "python",
      "name": "python3"
    },
    "language_info": {
      "codemirror_mode": {
        "name": "ipython",
        "version": 3
      },
      "file_extension": ".py",
      "mimetype": "text/x-python",
      "name": "python",
      "nbconvert_exporter": "python",
      "pygments_lexer": "ipython3",
      "version": "3.8.10"
    },
    "colab": {
      "provenance": [],
      "include_colab_link": true
    }
  },
  "nbformat": 4,
  "nbformat_minor": 0
}